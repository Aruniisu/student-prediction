{
  "cells": [
    {
      "cell_type": "code",
      "execution_count": null,
      "metadata": {
        "id": "k68k95H5KobF"
      },
      "outputs": [],
      "source": [
        "import pandas as pd\n",
        "import numpy as np\n",
        "from sklearn.preprocessing import LabelEncoder, StandardScaler\n",
        "from sklearn.model_selection import train_test_split\n"
      ]
    },
    {
      "cell_type": "code",
      "execution_count": 2,
      "metadata": {
        "id": "gT11c3CCLLqJ"
      },
      "outputs": [],
      "source": [
        "df = pd.read_csv('StudentsPerformance.csv')"
      ]
    },
    {
      "cell_type": "code",
      "execution_count": 3,
      "metadata": {
        "id": "rZXXdFrwLRJw"
      },
      "outputs": [],
      "source": [
        "df['average_score'] = (df['math score'] + df['reading score'] + df['writing score']) / 3"
      ]
    },
    {
      "cell_type": "code",
      "execution_count": 4,
      "metadata": {
        "id": "GEaM72OALW-h"
      },
      "outputs": [],
      "source": [
        "df['performance'] = pd.cut(df['average_score'],\n",
        "                           bins=[0, 40, 60, 80, 100],\n",
        "                           labels=[0, 1, 2, 3])"
      ]
    },
    {
      "cell_type": "code",
      "execution_count": 5,
      "metadata": {
        "id": "sgfy47veLe9I"
      },
      "outputs": [],
      "source": [
        "df['test_prep_completed'] = df['test preparation course'].apply(lambda x: 1 if x == 'completed' else 0)\n",
        "df['standard_lunch'] = df['lunch'].apply(lambda x: 1 if x == 'standard' else 0)"
      ]
    },
    {
      "cell_type": "code",
      "execution_count": 6,
      "metadata": {
        "id": "x0TP3_k2LjNB"
      },
      "outputs": [],
      "source": [
        "label_encoders = {}\n",
        "categorical_cols = ['gender', 'race/ethnicity', 'parental level of education']\n",
        "\n",
        "for col in categorical_cols:\n",
        "    le = LabelEncoder()\n",
        "    df[col] = le.fit_transform(df[col])\n",
        "    label_encoders[col] = le"
      ]
    },
    {
      "cell_type": "code",
      "execution_count": 7,
      "metadata": {
        "id": "IK3vk6VLLnpo"
      },
      "outputs": [],
      "source": [
        "features = ['gender', 'race/ethnicity', 'parental level of education',\n",
        "            'test_prep_completed', 'standard_lunch']\n",
        "X = df[features]\n",
        "y = df['performance']"
      ]
    },
    {
      "cell_type": "code",
      "execution_count": 8,
      "metadata": {
        "id": "S5g0u8qHLsR5"
      },
      "outputs": [],
      "source": [
        "X_train, X_test, y_train, y_test = train_test_split(X, y, test_size=0.2, random_state=42, stratify=y)"
      ]
    },
    {
      "cell_type": "code",
      "execution_count": 9,
      "metadata": {
        "id": "qsM_5Q-mLwMR"
      },
      "outputs": [],
      "source": [
        "scaler = StandardScaler()\n",
        "X_train_scaled = scaler.fit_transform(X_train)\n",
        "X_test_scaled = scaler.transform(X_test)"
      ]
    },
    {
      "cell_type": "code",
      "execution_count": 10,
      "metadata": {
        "id": "TdBkpBgGL3JI"
      },
      "outputs": [],
      "source": [
        "import joblib\n",
        "import os"
      ]
    },
    {
      "cell_type": "code",
      "execution_count": 11,
      "metadata": {
        "id": "0nqI6U_4L8aI"
      },
      "outputs": [],
      "source": [
        "os.makedirs('../data/processed', exist_ok=True)\n",
        "os.makedirs('../data/interim', exist_ok=True)"
      ]
    },
    {
      "cell_type": "code",
      "execution_count": 19,
      "metadata": {
        "id": "m3OmoPlCNwjg"
      },
      "outputs": [],
      "source": [
        "import os\n",
        "\n",
        "# Create directories if they don't exist\n",
        "os.makedirs('interim', exist_ok=True)\n",
        "os.makedirs('processed', exist_ok=True)"
      ]
    },
    {
      "cell_type": "code",
      "execution_count": 21,
      "metadata": {
        "colab": {
          "base_uri": "https://localhost:8080/"
        },
        "id": "zFkHIwTSOAVg",
        "outputId": "bac81903-c47c-4629-894d-0969085a0901"
      },
      "outputs": [
        {
          "data": {
            "text/plain": [
              "['interim/scaler.pkl']"
            ]
          },
          "execution_count": 21,
          "metadata": {},
          "output_type": "execute_result"
        }
      ],
      "source": [
        "joblib.dump(scaler, 'interim/scaler.pkl')"
      ]
    },
    {
      "cell_type": "code",
      "execution_count": 24,
      "metadata": {
        "id": "heQVJ5dzOFK5"
      },
      "outputs": [],
      "source": [
        "for col, le in label_encoders.items():\n",
        "    safe_col = col.replace('/', '_').replace(' ', '_')\n",
        "    joblib.dump(le, f'interim/{safe_col}_encoder.pkl')"
      ]
    },
    {
      "cell_type": "code",
      "execution_count": 25,
      "metadata": {
        "id": "KQEwZBj1Omq4"
      },
      "outputs": [],
      "source": [
        "pd.DataFrame(X_train_scaled, columns=features).to_csv('processed/X_train.csv', index=False)\n",
        "pd.DataFrame(X_test_scaled, columns=features).to_csv('processed/X_test.csv', index=False)\n",
        "y_train.to_csv('processed/y_train.csv', index=False)\n",
        "y_test.to_csv('processed/y_test.csv', index=False)"
      ]
    }
  ],
  "metadata": {
    "colab": {
      "provenance": []
    },
    "kernelspec": {
      "display_name": "Python 3",
      "name": "python3"
    },
    "language_info": {
      "name": "python"
    }
  },
  "nbformat": 4,
  "nbformat_minor": 0
}
